{
  "nbformat": 4,
  "nbformat_minor": 0,
  "metadata": {
    "colab": {
      "provenance": [],
      "gpuType": "T4"
    },
    "kernelspec": {
      "name": "python3",
      "display_name": "Python 3"
    },
    "language_info": {
      "name": "python"
    },
    "accelerator": "GPU"
  },
  "cells": [
    {
      "cell_type": "markdown",
      "source": [
        "# Whisper v3 is here!\n",
        "\n",
        "Whisper v3 is a new model open sourced by OpenAI. The model can do multilingual transcriptions and is quite impressive. For example, you can change from English to Spanish or Chinese in the middle of a sentence and it will work well!\n",
        "\n",
        "The model can be run in a free Google Colab instance and is integrated into `transformers` already, so switching can be a very smooth process if you already use the previous versions."
      ],
      "metadata": {
        "id": "OXaUqiE-eyXM"
      }
    },
    {
      "cell_type": "code",
      "execution_count": null,
      "metadata": {
        "id": "WFQeUT9EcIcK"
      },
      "outputs": [],
      "source": [
        "%%capture\n",
        "!pip install git+https://github.com/huggingface/transformers gradio"
      ]
    },
    {
      "cell_type": "markdown",
      "source": [
        "Let's use the high level `pipeline` from the `transformers` library to load the model."
      ],
      "metadata": {
        "id": "sZONes21fHTA"
      }
    },
    {
      "cell_type": "code",
      "source": [
        "import torch\n",
        "from transformers import pipeline\n",
        "\n",
        "pipe = pipeline(\"automatic-speech-recognition\",\n",
        "               \"openai/whisper-large-v3\",\n",
        "               torch_dtype=torch.float16,\n",
        "               device=\"cuda:0\")"
      ],
      "metadata": {
        "id": "DvBdwMdPcr-Y"
      },
      "execution_count": null,
      "outputs": []
    },
    {
      "cell_type": "code",
      "source": [
        "pipe(\"https://cdn-media.huggingface.co/speech_samples/sample1.flac\")"
      ],
      "metadata": {
        "id": "GZFkIyhjc0Nc"
      },
      "execution_count": null,
      "outputs": []
    },
    {
      "cell_type": "markdown",
      "source": [
        "Let's now build a quick Gradio demo where we can play with the model directly using our microphone! You can run this code in a Google Colab instance (or locally!) or just head to the <a href=\"https://huggingface.co/spaces/hf-audio/whisper-large-v3\" target=\"_blank\">Space</a> to play directly with it online."
      ],
      "metadata": {
        "id": "pt3YtM_PfTQY"
      }
    },
    {
      "cell_type": "code",
      "source": [
        "import gradio as gr\n",
        "\n",
        "def transcribe(inputs):\n",
        "    if inputs is None:\n",
        "        raise gr.Error(\"No audio file submitted! Please record an audio before submitting your request.\")\n",
        "\n",
        "    text = pipe(inputs, generate_kwargs={\"task\": \"transcribe\"}, return_timestamps=True)[\"text\"]\n",
        "    return text\n",
        "\n",
        "demo = gr.Interface(\n",
        "    fn=transcribe,\n",
        "    inputs=[\n",
        "        gr.Audio(sources=[\"microphone\", \"upload\"], type=\"filepath\"),\n",
        "    ],\n",
        "    outputs=\"text\",\n",
        "    title=\"Whisper Large V3: Transcribe Audio\",\n",
        "    description=(\n",
        "        \"Transcribe long-form microphone or audio inputs with the click of a button! Demo uses the\"\n",
        "        \" checkpoint [openai/whisper-large-v3](https://huggingface.co/openai/whisper-large-v3) and 🤗 Transformers to transcribe audio files\"\n",
        "        \" of arbitrary length.\"\n",
        "    ),\n",
        "    allow_flagging=\"never\",\n",
        ")\n",
        "\n",
        "demo.launch()\n"
      ],
      "metadata": {
        "id": "K0b2UZLVdIze"
      },
      "execution_count": null,
      "outputs": []
    },
    {
      "cell_type": "code",
      "source": [
        "#!/usr/bin/env python3\n",
        "import os\n",
        "import time\n",
        "import gradio as gr\n",
        "import torch\n",
        "from datetime import timedelta\n",
        "from transformers import pipeline\n",
        "\n",
        "# ===== Whisper ASR Pipeline =====\n",
        "# 根据你的环境选择设备：GPU 优先，否则 CPU\n",
        "DEVICE = 0 if torch.cuda.is_available() else -1\n",
        "DTYPE = torch.float16 if torch.cuda.is_available() else torch.float32\n",
        "\n",
        "pipe = pipeline(\n",
        "    task=\"automatic-speech-recognition\",\n",
        "    model=\"openai/whisper-large-v3\",\n",
        "    torch_dtype=DTYPE,\n",
        "    device=DEVICE,\n",
        "    generate_kwargs={\"task\": \"transcribe\"},     # 原声转写（非翻译）\n",
        "    chunk_length_s=30,                          # 长音频自动分块\n",
        "    batch_size=8,\n",
        "    return_timestamps=True\n",
        ")\n",
        "\n",
        "def _format_timestamp(seconds: float) -> str:\n",
        "    \"\"\"秒 -> SRT 时间戳 00:00:00,000\"\"\"\n",
        "    if seconds is None:\n",
        "        seconds = 0.0\n",
        "    td = timedelta(seconds=float(seconds))\n",
        "    total_seconds = int(td.total_seconds())\n",
        "    millis = int((td.total_seconds() - total_seconds) * 1000)\n",
        "    h = total_seconds // 3600\n",
        "    m = (total_seconds % 3600) // 60\n",
        "    s = total_seconds % 60\n",
        "    return f\"{h:02d}:{m:02d}:{s:02d},{millis:03d}\"\n",
        "\n",
        "def _chunks_to_srt(chunks) -> str:\n",
        "    \"\"\"\n",
        "    将 pipeline 返回的 chunks（含 'timestamp': (start, end), 'text'）\n",
        "    转换为标准 .srt 文本。\n",
        "    \"\"\"\n",
        "    lines = []\n",
        "    idx = 1\n",
        "    for ch in chunks:\n",
        "        ts = ch.get(\"timestamp\", None)\n",
        "        text = (ch.get(\"text\") or \"\").strip()\n",
        "        if not text:\n",
        "            continue\n",
        "        # ts 可能是 (start, end) 或 None\n",
        "        if ts and isinstance(ts, (list, tuple)) and len(ts) == 2:\n",
        "            start, end = ts\n",
        "        else:\n",
        "            # 某些情况下没有时间戳，尽量填充\n",
        "            start, end = None, None\n",
        "        start_str = _format_timestamp(start if start is not None else 0.0)\n",
        "        end_str   = _format_timestamp(end   if end   is not None else 0.0)\n",
        "        lines.append(str(idx))\n",
        "        lines.append(f\"{start_str} --> {end_str}\")\n",
        "        lines.append(text)\n",
        "        lines.append(\"\")  # 段落空行\n",
        "        idx += 1\n",
        "    return \"\\n\".join(lines).strip() + \"\\n\"\n",
        "\n",
        "def transcribe(audio_path):\n",
        "    if audio_path is None:\n",
        "        raise gr.Error(\"No audio file submitted! Please record or upload audio before submitting.\")\n",
        "\n",
        "    # 运行转写\n",
        "    result = pipe(audio_path)  # dict: {'text': '...', 'chunks': [...]}（开启了 return_timestamps）\n",
        "    text = result.get(\"text\", \"\").strip()\n",
        "    chunks = result.get(\"chunks\", []) or []\n",
        "\n",
        "    # 生成 SRT 内容\n",
        "    srt_text = _chunks_to_srt(chunks)\n",
        "\n",
        "    # 保存到临时文件\n",
        "    base = os.path.splitext(os.path.basename(audio_path))[0]\n",
        "    safe_base = base if base else f\"transcript_{int(time.time())}\"\n",
        "    srt_path = os.path.abspath(f\"{safe_base}.srt\")\n",
        "    with open(srt_path, \"w\", encoding=\"utf-8\") as f:\n",
        "        f.write(srt_text)\n",
        "\n",
        "    return text, srt_path\n",
        "\n",
        "demo = gr.Interface(\n",
        "    fn=transcribe,\n",
        "    inputs=[\n",
        "        gr.Audio(sources=[\"microphone\", \"upload\"], type=\"filepath\", label=\"Audio (mic/upload)\")\n",
        "    ],\n",
        "    outputs=[\n",
        "        gr.Textbox(label=\"Transcript (Plain Text)\", lines=8),\n",
        "        gr.File(label=\"Download .srt\")\n",
        "    ],\n",
        "    title=\"Whisper Large V3: Transcribe Audio → SRT\",\n",
        "    description=(\n",
        "        \"Transcribe long-form microphone or audio inputs with Whisper Large V3 and export subtitles (.srt). \"\n",
        "        \"Model: openai/whisper-large-v3 (🤗 Transformers).\"\n",
        "    ),\n",
        "    allow_flagging=\"never\",\n",
        ")\n",
        "\n",
        "if __name__ == \"__main__\":\n",
        "    demo.launch()\n"
      ],
      "metadata": {
        "id": "Kd6atIFogjbu"
      },
      "execution_count": null,
      "outputs": []
    }
  ]
}